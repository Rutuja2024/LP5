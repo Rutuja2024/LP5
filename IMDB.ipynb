{
 "cells": [
  {
   "cell_type": "code",
   "execution_count": 15,
   "id": "d51dab9f-8afe-4a1d-92c2-68291fd6d158",
   "metadata": {},
   "outputs": [],
   "source": [
    "import tensorflow as tf\n",
    "from tensorflow import keras\n",
    "from tensorflow.keras import layers\n",
    "from tensorflow.keras.datasets import imdb"
   ]
  },
  {
   "cell_type": "code",
   "execution_count": 16,
   "id": "eead84db-779c-492f-836c-0b95894cff5d",
   "metadata": {},
   "outputs": [],
   "source": [
    "# Load the IMDB dataset\n",
    "(train_data, train_labels), (test_data, test_labels) = imdb.load_data(num_words=10000)"
   ]
  },
  {
   "cell_type": "code",
   "execution_count": 17,
   "id": "b1aae7eb-249a-42c1-b867-9cbb509ab1f7",
   "metadata": {},
   "outputs": [],
   "source": [
    "# Preprocess the data\n",
    "def vectorize_sequences(sequences, dimension=10000):\n",
    "    results = np.zeros((len(sequences), dimension))\n",
    "    for i, sequence in enumerate(sequences):\n",
    "        results[i, sequence] = 1.\n",
    "    return results"
   ]
  },
  {
   "cell_type": "code",
   "execution_count": 18,
   "id": "431091dc-f535-493f-b4c7-c6d78c0f64a9",
   "metadata": {},
   "outputs": [],
   "source": [
    "\n",
    "x_train = vectorize_sequences(train_data)\n",
    "x_test = vectorize_sequences(test_data)\n",
    "y_train = np.asarray(train_labels).astype('float32')\n",
    "y_test = np.asarray(test_labels).astype('float32')"
   ]
  },
  {
   "cell_type": "code",
   "execution_count": 19,
   "id": "8c1652ff-ca62-4985-941e-79db35247fcf",
   "metadata": {},
   "outputs": [],
   "source": [
    "# Build the DNN model\n",
    "model = keras.Sequential([\n",
    "    layers.Dense(16, activation='relu', input_shape=(10000,)),\n",
    "    layers.Dense(16, activation='relu'),\n",
    "    layers.Dense(1, activation='sigmoid')\n",
    "])"
   ]
  },
  {
   "cell_type": "code",
   "execution_count": 20,
   "id": "a1245db5-c6c9-4754-b4cd-667877d9cca4",
   "metadata": {},
   "outputs": [],
   "source": [
    "# Compile the model\n",
    "model.compile(optimizer='rmsprop',\n",
    "              loss='binary_crossentropy',\n",
    "              metrics=['accuracy'])"
   ]
  },
  {
   "cell_type": "code",
   "execution_count": 37,
   "id": "241b613d-241b-45b9-b820-4f730f27b0ff",
   "metadata": {},
   "outputs": [
    {
     "name": "stdout",
     "output_type": "stream",
     "text": [
      "Epoch 1/10\n",
      "49/49 [==============================] - 1s 29ms/step - loss: 0.0055 - accuracy: 0.9985 - val_loss: 1.4161 - val_accuracy: 0.8465\n",
      "Epoch 2/10\n",
      "49/49 [==============================] - 1s 11ms/step - loss: 7.2824e-04 - accuracy: 1.0000 - val_loss: 1.4434 - val_accuracy: 0.8450\n",
      "Epoch 3/10\n",
      "49/49 [==============================] - 1s 12ms/step - loss: 0.0058 - accuracy: 0.9986 - val_loss: 1.4571 - val_accuracy: 0.8454\n",
      "Epoch 4/10\n",
      "49/49 [==============================] - 1s 11ms/step - loss: 0.0079 - accuracy: 0.9980 - val_loss: 1.4643 - val_accuracy: 0.8458\n",
      "Epoch 5/10\n",
      "49/49 [==============================] - 1s 12ms/step - loss: 6.1037e-04 - accuracy: 1.0000 - val_loss: 1.4899 - val_accuracy: 0.8439\n",
      "Epoch 6/10\n",
      "49/49 [==============================] - 1s 12ms/step - loss: 0.0069 - accuracy: 0.9982 - val_loss: 1.5118 - val_accuracy: 0.8456\n",
      "Epoch 7/10\n",
      "49/49 [==============================] - 1s 12ms/step - loss: 4.7991e-04 - accuracy: 1.0000 - val_loss: 1.5237 - val_accuracy: 0.8453\n",
      "Epoch 8/10\n",
      "49/49 [==============================] - 1s 12ms/step - loss: 0.0046 - accuracy: 0.9986 - val_loss: 1.5378 - val_accuracy: 0.8452\n",
      "Epoch 9/10\n",
      "49/49 [==============================] - 1s 12ms/step - loss: 4.4305e-04 - accuracy: 1.0000 - val_loss: 1.5523 - val_accuracy: 0.8456\n",
      "Epoch 10/10\n",
      "49/49 [==============================] - 1s 11ms/step - loss: 0.0052 - accuracy: 0.9988 - val_loss: 1.5621 - val_accuracy: 0.8444\n"
     ]
    }
   ],
   "source": [
    "# Train the model\n",
    "history = model.fit(x_train, y_train,\n",
    "                    epochs=10,\n",
    "                    batch_size=512,\n",
    "                    validation_data=(x_test, y_test))"
   ]
  },
  {
   "cell_type": "code",
   "execution_count": 38,
   "id": "fa036094-d007-4736-8a5a-d5c5520b1488",
   "metadata": {},
   "outputs": [
    {
     "name": "stdout",
     "output_type": "stream",
     "text": [
      "782/782 [==============================] - 1s 1ms/step - loss: 1.5621 - accuracy: 0.8444\n",
      "\n",
      "Test Loss: 1.5620737075805664\n",
      "Test Accuracy: 0.8444399833679199\n"
     ]
    }
   ],
   "source": [
    "# Evaluate the model\n",
    "results = model.evaluate(x_test, y_test)\n",
    "print(\"\\nTest Loss:\", results[0])\n",
    "print(\"Test Accuracy:\", results[1])"
   ]
  },
  {
   "cell_type": "code",
   "execution_count": null,
   "id": "0bd4b2b9-50f8-4762-92e7-0141ba53d718",
   "metadata": {},
   "outputs": [],
   "source": []
  }
 ],
 "metadata": {
  "kernelspec": {
   "display_name": "Python 3 (ipykernel)",
   "language": "python",
   "name": "python3"
  },
  "language_info": {
   "codemirror_mode": {
    "name": "ipython",
    "version": 3
   },
   "file_extension": ".py",
   "mimetype": "text/x-python",
   "name": "python",
   "nbconvert_exporter": "python",
   "pygments_lexer": "ipython3",
   "version": "3.8.2"
  }
 },
 "nbformat": 4,
 "nbformat_minor": 5
}
