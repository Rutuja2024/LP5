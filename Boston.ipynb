{
 "cells": [
  {
   "cell_type": "code",
   "execution_count": 9,
   "id": "dec08729",
   "metadata": {
    "executionInfo": {
     "elapsed": 3726,
     "status": "ok",
     "timestamp": 1685034050569,
     "user": {
      "displayName": "TE_B_52_Siddesh Patankar",
      "userId": "08734077620444832225"
     },
     "user_tz": -330
    },
    "id": "dec08729"
   },
   "outputs": [],
   "source": [
    "import tensorflow as tf\n",
    "import pandas as pd\n",
    "from tensorflow.keras.datasets import boston_housing\n",
    "from sklearn import preprocessing"
   ]
  },
  {
   "cell_type": "code",
   "execution_count": 10,
   "id": "d857ed5f",
   "metadata": {
    "colab": {
     "base_uri": "https://localhost:8080/"
    },
    "executionInfo": {
     "elapsed": 1222,
     "status": "ok",
     "timestamp": 1685034279071,
     "user": {
      "displayName": "TE_B_52_Siddesh Patankar",
      "userId": "08734077620444832225"
     },
     "user_tz": -330
    },
    "id": "d857ed5f",
    "outputId": "c14a5e50-a093-4c05-a7bb-131de20f8c70"
   },
   "outputs": [],
   "source": [
    "(train_x,train_y),(test_x,test_y)=boston_housing.load_data()"
   ]
  },
  {
   "cell_type": "code",
   "execution_count": 11,
   "id": "6a7f0219",
   "metadata": {
    "colab": {
     "base_uri": "https://localhost:8080/"
    },
    "executionInfo": {
     "elapsed": 750,
     "status": "ok",
     "timestamp": 1685034282170,
     "user": {
      "displayName": "TE_B_52_Siddesh Patankar",
      "userId": "08734077620444832225"
     },
     "user_tz": -330
    },
    "id": "6a7f0219",
    "outputId": "5db99bb9-6f24-4ae2-e8d9-eea94dd852b0"
   },
   "outputs": [
    {
     "data": {
      "text/plain": [
       "((array([[1.23247e+00, 0.00000e+00, 8.14000e+00, ..., 2.10000e+01,\n",
       "          3.96900e+02, 1.87200e+01],\n",
       "         [2.17700e-02, 8.25000e+01, 2.03000e+00, ..., 1.47000e+01,\n",
       "          3.95380e+02, 3.11000e+00],\n",
       "         [4.89822e+00, 0.00000e+00, 1.81000e+01, ..., 2.02000e+01,\n",
       "          3.75520e+02, 3.26000e+00],\n",
       "         ...,\n",
       "         [3.46600e-02, 3.50000e+01, 6.06000e+00, ..., 1.69000e+01,\n",
       "          3.62250e+02, 7.83000e+00],\n",
       "         [2.14918e+00, 0.00000e+00, 1.95800e+01, ..., 1.47000e+01,\n",
       "          2.61950e+02, 1.57900e+01],\n",
       "         [1.43900e-02, 6.00000e+01, 2.93000e+00, ..., 1.56000e+01,\n",
       "          3.76700e+02, 4.38000e+00]]),\n",
       "  array([15.2, 42.3, 50. , 21.1, 17.7, 18.5, 11.3, 15.6, 15.6, 14.4, 12.1,\n",
       "         17.9, 23.1, 19.9, 15.7,  8.8, 50. , 22.5, 24.1, 27.5, 10.9, 30.8,\n",
       "         32.9, 24. , 18.5, 13.3, 22.9, 34.7, 16.6, 17.5, 22.3, 16.1, 14.9,\n",
       "         23.1, 34.9, 25. , 13.9, 13.1, 20.4, 20. , 15.2, 24.7, 22.2, 16.7,\n",
       "         12.7, 15.6, 18.4, 21. , 30.1, 15.1, 18.7,  9.6, 31.5, 24.8, 19.1,\n",
       "         22. , 14.5, 11. , 32. , 29.4, 20.3, 24.4, 14.6, 19.5, 14.1, 14.3,\n",
       "         15.6, 10.5,  6.3, 19.3, 19.3, 13.4, 36.4, 17.8, 13.5, 16.5,  8.3,\n",
       "         14.3, 16. , 13.4, 28.6, 43.5, 20.2, 22. , 23. , 20.7, 12.5, 48.5,\n",
       "         14.6, 13.4, 23.7, 50. , 21.7, 39.8, 38.7, 22.2, 34.9, 22.5, 31.1,\n",
       "         28.7, 46. , 41.7, 21. , 26.6, 15. , 24.4, 13.3, 21.2, 11.7, 21.7,\n",
       "         19.4, 50. , 22.8, 19.7, 24.7, 36.2, 14.2, 18.9, 18.3, 20.6, 24.6,\n",
       "         18.2,  8.7, 44. , 10.4, 13.2, 21.2, 37. , 30.7, 22.9, 20. , 19.3,\n",
       "         31.7, 32. , 23.1, 18.8, 10.9, 50. , 19.6,  5. , 14.4, 19.8, 13.8,\n",
       "         19.6, 23.9, 24.5, 25. , 19.9, 17.2, 24.6, 13.5, 26.6, 21.4, 11.9,\n",
       "         22.6, 19.6,  8.5, 23.7, 23.1, 22.4, 20.5, 23.6, 18.4, 35.2, 23.1,\n",
       "         27.9, 20.6, 23.7, 28. , 13.6, 27.1, 23.6, 20.6, 18.2, 21.7, 17.1,\n",
       "          8.4, 25.3, 13.8, 22.2, 18.4, 20.7, 31.6, 30.5, 20.3,  8.8, 19.2,\n",
       "         19.4, 23.1, 23. , 14.8, 48.8, 22.6, 33.4, 21.1, 13.6, 32.2, 13.1,\n",
       "         23.4, 18.9, 23.9, 11.8, 23.3, 22.8, 19.6, 16.7, 13.4, 22.2, 20.4,\n",
       "         21.8, 26.4, 14.9, 24.1, 23.8, 12.3, 29.1, 21. , 19.5, 23.3, 23.8,\n",
       "         17.8, 11.5, 21.7, 19.9, 25. , 33.4, 28.5, 21.4, 24.3, 27.5, 33.1,\n",
       "         16.2, 23.3, 48.3, 22.9, 22.8, 13.1, 12.7, 22.6, 15. , 15.3, 10.5,\n",
       "         24. , 18.5, 21.7, 19.5, 33.2, 23.2,  5. , 19.1, 12.7, 22.3, 10.2,\n",
       "         13.9, 16.3, 17. , 20.1, 29.9, 17.2, 37.3, 45.4, 17.8, 23.2, 29. ,\n",
       "         22. , 18. , 17.4, 34.6, 20.1, 25. , 15.6, 24.8, 28.2, 21.2, 21.4,\n",
       "         23.8, 31. , 26.2, 17.4, 37.9, 17.5, 20. ,  8.3, 23.9,  8.4, 13.8,\n",
       "          7.2, 11.7, 17.1, 21.6, 50. , 16.1, 20.4, 20.6, 21.4, 20.6, 36.5,\n",
       "          8.5, 24.8, 10.8, 21.9, 17.3, 18.9, 36.2, 14.9, 18.2, 33.3, 21.8,\n",
       "         19.7, 31.6, 24.8, 19.4, 22.8,  7.5, 44.8, 16.8, 18.7, 50. , 50. ,\n",
       "         19.5, 20.1, 50. , 17.2, 20.8, 19.3, 41.3, 20.4, 20.5, 13.8, 16.5,\n",
       "         23.9, 20.6, 31.5, 23.3, 16.8, 14. , 33.8, 36.1, 12.8, 18.3, 18.7,\n",
       "         19.1, 29. , 30.1, 50. , 50. , 22. , 11.9, 37.6, 50. , 22.7, 20.8,\n",
       "         23.5, 27.9, 50. , 19.3, 23.9, 22.6, 15.2, 21.7, 19.2, 43.8, 20.3,\n",
       "         33.2, 19.9, 22.5, 32.7, 22. , 17.1, 19. , 15. , 16.1, 25.1, 23.7,\n",
       "         28.7, 37.2, 22.6, 16.4, 25. , 29.8, 22.1, 17.4, 18.1, 30.3, 17.5,\n",
       "         24.7, 12.6, 26.5, 28.7, 13.3, 10.4, 24.4, 23. , 20. , 17.8,  7. ,\n",
       "         11.8, 24.4, 13.8, 19.4, 25.2, 19.4, 19.4, 29.1])),\n",
       " (array([[1.80846e+01, 0.00000e+00, 1.81000e+01, ..., 2.02000e+01,\n",
       "          2.72500e+01, 2.90500e+01],\n",
       "         [1.23290e-01, 0.00000e+00, 1.00100e+01, ..., 1.78000e+01,\n",
       "          3.94950e+02, 1.62100e+01],\n",
       "         [5.49700e-02, 0.00000e+00, 5.19000e+00, ..., 2.02000e+01,\n",
       "          3.96900e+02, 9.74000e+00],\n",
       "         ...,\n",
       "         [1.83377e+00, 0.00000e+00, 1.95800e+01, ..., 1.47000e+01,\n",
       "          3.89610e+02, 1.92000e+00],\n",
       "         [3.58090e-01, 0.00000e+00, 6.20000e+00, ..., 1.74000e+01,\n",
       "          3.91700e+02, 9.71000e+00],\n",
       "         [2.92400e+00, 0.00000e+00, 1.95800e+01, ..., 1.47000e+01,\n",
       "          2.40160e+02, 9.81000e+00]]),\n",
       "  array([ 7.2, 18.8, 19. , 27. , 22.2, 24.5, 31.2, 22.9, 20.5, 23.2, 18.6,\n",
       "         14.5, 17.8, 50. , 20.8, 24.3, 24.2, 19.8, 19.1, 22.7, 12. , 10.2,\n",
       "         20. , 18.5, 20.9, 23. , 27.5, 30.1,  9.5, 22. , 21.2, 14.1, 33.1,\n",
       "         23.4, 20.1,  7.4, 15.4, 23.8, 20.1, 24.5, 33. , 28.4, 14.1, 46.7,\n",
       "         32.5, 29.6, 28.4, 19.8, 20.2, 25. , 35.4, 20.3,  9.7, 14.5, 34.9,\n",
       "         26.6,  7.2, 50. , 32.4, 21.6, 29.8, 13.1, 27.5, 21.2, 23.1, 21.9,\n",
       "         13. , 23.2,  8.1,  5.6, 21.7, 29.6, 19.6,  7. , 26.4, 18.9, 20.9,\n",
       "         28.1, 35.4, 10.2, 24.3, 43.1, 17.6, 15.4, 16.2, 27.1, 21.4, 21.5,\n",
       "         22.4, 25. , 16.6, 18.6, 22. , 42.8, 35.1, 21.5, 36. , 21.9, 24.1,\n",
       "         50. , 26.7, 25. ])))"
      ]
     },
     "execution_count": 11,
     "metadata": {},
     "output_type": "execute_result"
    }
   ],
   "source": [
    "df = boston_housing.load_data()\n",
    "df"
   ]
  },
  {
   "cell_type": "code",
   "execution_count": 12,
   "id": "c664161b",
   "metadata": {
    "colab": {
     "base_uri": "https://localhost:8080/"
    },
    "executionInfo": {
     "elapsed": 893,
     "status": "ok",
     "timestamp": 1685034562446,
     "user": {
      "displayName": "TE_B_52_Siddesh Patankar",
      "userId": "08734077620444832225"
     },
     "user_tz": -330
    },
    "id": "c664161b",
    "outputId": "0c44ac14-0469-49e6-cc25-5d87784fc127"
   },
   "outputs": [
    {
     "name": "stdout",
     "output_type": "stream",
     "text": [
      "train shape:  (404, 13)\n",
      "test shape:  (102, 13)\n",
      "actual train output: (404,)\n",
      "actual test output: (102,)\n"
     ]
    }
   ],
   "source": [
    "print(\"train shape: \",train_x.shape)\n",
    "print(\"test shape: \",test_x.shape)\n",
    "print(\"actual train output:\",train_y.shape)\n",
    "print(\"actual test output:\",test_y.shape)"
   ]
  },
  {
   "cell_type": "code",
   "execution_count": 5,
   "id": "3e6cd10e",
   "metadata": {
    "executionInfo": {
     "elapsed": 1321,
     "status": "ok",
     "timestamp": 1685034323579,
     "user": {
      "displayName": "TE_B_52_Siddesh Patankar",
      "userId": "08734077620444832225"
     },
     "user_tz": -330
    },
    "id": "3e6cd10e"
   },
   "outputs": [],
   "source": [
    "#normalization for preprocessing\n",
    "train_x=preprocessing.normalize(train_x)\n",
    "test_x=preprocessing.normalize(test_x)"
   ]
  },
  {
   "cell_type": "code",
   "execution_count": 6,
   "id": "c1c3fcb3",
   "metadata": {
    "executionInfo": {
     "elapsed": 524,
     "status": "ok",
     "timestamp": 1685037582134,
     "user": {
      "displayName": "TE_B_52_Siddesh Patankar",
      "userId": "08734077620444832225"
     },
     "user_tz": -330
    },
    "id": "c1c3fcb3"
   },
   "outputs": [],
   "source": [
    "from tensorflow.python import metrics\n",
    "from tensorflow.keras.models import Sequential\n",
    "from tensorflow.keras.layers import *\n",
    "def HousePricePredictionModel():  \n",
    "\tmodel=Sequential()\n",
    "\tmodel.add(Dense(128,activation='relu',input_shape=(train_x[0].shape)))\n",
    "\tmodel.add(Dense(64,activation='relu'))\n",
    "\tmodel.add(Dense(32,activation='relu'))\n",
    "\tmodel.add(Dense(1))\n",
    "\tmodel.compile(optimizer='adam',loss='mse',metrics=['mae'])\n",
    "\treturn model"
   ]
  },
  {
   "cell_type": "code",
   "execution_count": 7,
   "id": "d55cfd2b",
   "metadata": {
    "executionInfo": {
     "elapsed": 4,
     "status": "ok",
     "timestamp": 1685037584754,
     "user": {
      "displayName": "TE_B_52_Siddesh Patankar",
      "userId": "08734077620444832225"
     },
     "user_tz": -330
    },
    "id": "d55cfd2b"
   },
   "outputs": [],
   "source": [
    "import numpy as np\n",
    "k=4\n",
    "num_val_samples=len(train_x)\n",
    "num_epochs=100\n",
    "all_scores=[]"
   ]
  },
  {
   "cell_type": "code",
   "execution_count": 8,
   "id": "d96f40b9",
   "metadata": {
    "colab": {
     "base_uri": "https://localhost:8080/"
    },
    "executionInfo": {
     "elapsed": 67695,
     "status": "ok",
     "timestamp": 1685037652446,
     "user": {
      "displayName": "TE_B_52_Siddesh Patankar",
      "userId": "08734077620444832225"
     },
     "user_tz": -330
    },
    "id": "d96f40b9",
    "outputId": "ba18ddb9-1810-41f6-9b3e-0ca7d08ba37a"
   },
   "outputs": [
    {
     "name": "stdout",
     "output_type": "stream",
     "text": [
      "Epoch 1/100\n",
      "404/404 [==============================] - 2s 2ms/step - loss: 172.4568 - mae: 9.3316 - val_loss: 69.6751 - val_mae: 5.8886\n",
      "Epoch 2/100\n",
      "404/404 [==============================] - 1s 2ms/step - loss: 68.7781 - mae: 5.7423 - val_loss: 59.2182 - val_mae: 5.6116\n",
      "Epoch 3/100\n",
      "404/404 [==============================] - 1s 2ms/step - loss: 62.2235 - mae: 5.5228 - val_loss: 59.6116 - val_mae: 5.5605\n",
      "Epoch 4/100\n",
      "404/404 [==============================] - 1s 2ms/step - loss: 60.1026 - mae: 5.4566 - val_loss: 54.2369 - val_mae: 5.4196\n",
      "Epoch 5/100\n",
      "404/404 [==============================] - 1s 2ms/step - loss: 59.0162 - mae: 5.3113 - val_loss: 52.9909 - val_mae: 5.3924\n",
      "Epoch 6/100\n",
      "404/404 [==============================] - 1s 2ms/step - loss: 55.7141 - mae: 5.2113 - val_loss: 55.5135 - val_mae: 5.3077\n",
      "Epoch 7/100\n",
      "404/404 [==============================] - 1s 2ms/step - loss: 55.2257 - mae: 5.1573 - val_loss: 50.8146 - val_mae: 5.2367\n",
      "Epoch 8/100\n",
      "404/404 [==============================] - 1s 2ms/step - loss: 53.1394 - mae: 5.1245 - val_loss: 63.6026 - val_mae: 5.6297\n",
      "Epoch 9/100\n",
      "404/404 [==============================] - 1s 2ms/step - loss: 52.2473 - mae: 5.0290 - val_loss: 49.9323 - val_mae: 4.9958\n",
      "Epoch 10/100\n",
      "404/404 [==============================] - 1s 2ms/step - loss: 49.5869 - mae: 4.7267 - val_loss: 46.5477 - val_mae: 4.9277\n",
      "Epoch 11/100\n",
      "404/404 [==============================] - 1s 2ms/step - loss: 48.3525 - mae: 4.7120 - val_loss: 48.4821 - val_mae: 4.8602\n",
      "Epoch 12/100\n",
      "404/404 [==============================] - 1s 2ms/step - loss: 45.3794 - mae: 4.5153 - val_loss: 43.1384 - val_mae: 4.6590\n",
      "Epoch 13/100\n",
      "404/404 [==============================] - 1s 2ms/step - loss: 43.5914 - mae: 4.5893 - val_loss: 42.1668 - val_mae: 4.4764\n",
      "Epoch 14/100\n",
      "404/404 [==============================] - 1s 2ms/step - loss: 41.1291 - mae: 4.4411 - val_loss: 42.1142 - val_mae: 4.4946\n",
      "Epoch 15/100\n",
      "404/404 [==============================] - 1s 2ms/step - loss: 39.2685 - mae: 4.3911 - val_loss: 37.7774 - val_mae: 4.2741\n",
      "Epoch 16/100\n",
      "404/404 [==============================] - 1s 2ms/step - loss: 38.2375 - mae: 4.2950 - val_loss: 36.4090 - val_mae: 4.1992\n",
      "Epoch 17/100\n",
      "404/404 [==============================] - 1s 2ms/step - loss: 38.7281 - mae: 4.4409 - val_loss: 39.6372 - val_mae: 4.3640\n",
      "Epoch 18/100\n",
      "404/404 [==============================] - 1s 2ms/step - loss: 35.5869 - mae: 4.1590 - val_loss: 41.3288 - val_mae: 4.4702\n",
      "Epoch 19/100\n",
      "404/404 [==============================] - 1s 2ms/step - loss: 33.8996 - mae: 4.0400 - val_loss: 38.4727 - val_mae: 4.3036\n",
      "Epoch 20/100\n",
      "404/404 [==============================] - 1s 2ms/step - loss: 33.3678 - mae: 4.0236 - val_loss: 30.4748 - val_mae: 3.9743\n",
      "Epoch 21/100\n",
      "404/404 [==============================] - 1s 2ms/step - loss: 32.1323 - mae: 4.0072 - val_loss: 31.4835 - val_mae: 3.9418\n",
      "Epoch 22/100\n",
      "404/404 [==============================] - 1s 2ms/step - loss: 30.8042 - mae: 3.9860 - val_loss: 31.5521 - val_mae: 3.9687\n",
      "Epoch 23/100\n",
      "404/404 [==============================] - 1s 2ms/step - loss: 30.5490 - mae: 3.8772 - val_loss: 28.6157 - val_mae: 3.8930\n",
      "Epoch 24/100\n",
      "404/404 [==============================] - 1s 2ms/step - loss: 28.6192 - mae: 3.8764 - val_loss: 27.3178 - val_mae: 3.8527\n",
      "Epoch 25/100\n",
      "404/404 [==============================] - 1s 2ms/step - loss: 27.8398 - mae: 3.8417 - val_loss: 39.2747 - val_mae: 4.4539\n",
      "Epoch 26/100\n",
      "404/404 [==============================] - 1s 2ms/step - loss: 26.5597 - mae: 3.7408 - val_loss: 33.6754 - val_mae: 4.0838\n",
      "Epoch 27/100\n",
      "404/404 [==============================] - 1s 2ms/step - loss: 25.3349 - mae: 3.6750 - val_loss: 31.5491 - val_mae: 4.0081\n",
      "Epoch 28/100\n",
      "404/404 [==============================] - 1s 2ms/step - loss: 23.8838 - mae: 3.5843 - val_loss: 27.6322 - val_mae: 3.8800\n",
      "Epoch 29/100\n",
      "404/404 [==============================] - 1s 2ms/step - loss: 22.9702 - mae: 3.4996 - val_loss: 27.8296 - val_mae: 3.8671\n",
      "Epoch 30/100\n",
      "404/404 [==============================] - 1s 2ms/step - loss: 21.8676 - mae: 3.4584 - val_loss: 31.6029 - val_mae: 3.9859\n",
      "Epoch 31/100\n",
      "404/404 [==============================] - 1s 2ms/step - loss: 20.9208 - mae: 3.3307 - val_loss: 27.7376 - val_mae: 3.8586\n",
      "Epoch 32/100\n",
      "404/404 [==============================] - 1s 2ms/step - loss: 22.0786 - mae: 3.4127 - val_loss: 29.1050 - val_mae: 3.8671\n",
      "Epoch 33/100\n",
      "404/404 [==============================] - 1s 2ms/step - loss: 20.7297 - mae: 3.3918 - val_loss: 29.8714 - val_mae: 3.8996\n",
      "Epoch 34/100\n",
      "404/404 [==============================] - 1s 2ms/step - loss: 22.2488 - mae: 3.4473 - val_loss: 33.9161 - val_mae: 4.3476\n",
      "Epoch 35/100\n",
      "404/404 [==============================] - 1s 2ms/step - loss: 18.7612 - mae: 3.2097 - val_loss: 28.0244 - val_mae: 3.8390\n",
      "Epoch 36/100\n",
      "404/404 [==============================] - 1s 2ms/step - loss: 19.3623 - mae: 3.1806 - val_loss: 32.4282 - val_mae: 4.0199\n",
      "Epoch 37/100\n",
      "404/404 [==============================] - 1s 2ms/step - loss: 19.0718 - mae: 3.1890 - val_loss: 31.6055 - val_mae: 4.3044\n",
      "Epoch 38/100\n",
      "404/404 [==============================] - 1s 2ms/step - loss: 19.0295 - mae: 3.1879 - val_loss: 30.8870 - val_mae: 3.9009\n",
      "Epoch 39/100\n",
      "404/404 [==============================] - 1s 2ms/step - loss: 18.6077 - mae: 3.1096 - val_loss: 30.2459 - val_mae: 3.8847\n",
      "Epoch 40/100\n",
      "404/404 [==============================] - 1s 2ms/step - loss: 19.4428 - mae: 3.2293 - val_loss: 28.7153 - val_mae: 3.7852\n",
      "Epoch 41/100\n",
      "404/404 [==============================] - 1s 2ms/step - loss: 18.0212 - mae: 3.1302 - val_loss: 29.9592 - val_mae: 3.8003\n",
      "Epoch 42/100\n",
      "404/404 [==============================] - 1s 2ms/step - loss: 17.6634 - mae: 3.0216 - val_loss: 35.6118 - val_mae: 4.1921\n",
      "Epoch 43/100\n",
      "404/404 [==============================] - 1s 2ms/step - loss: 19.7151 - mae: 3.1494 - val_loss: 29.9643 - val_mae: 3.8087\n",
      "Epoch 44/100\n",
      "404/404 [==============================] - 1s 2ms/step - loss: 20.2628 - mae: 3.2355 - val_loss: 29.2764 - val_mae: 3.8051\n",
      "Epoch 45/100\n",
      "404/404 [==============================] - 1s 2ms/step - loss: 17.6546 - mae: 3.1846 - val_loss: 30.5189 - val_mae: 3.8245\n",
      "Epoch 46/100\n",
      "404/404 [==============================] - 1s 2ms/step - loss: 16.8798 - mae: 3.0077 - val_loss: 30.9519 - val_mae: 3.9015\n",
      "Epoch 47/100\n",
      "404/404 [==============================] - 1s 2ms/step - loss: 16.0553 - mae: 3.0106 - val_loss: 32.8085 - val_mae: 4.0160\n",
      "Epoch 48/100\n",
      "404/404 [==============================] - 1s 2ms/step - loss: 19.9581 - mae: 3.2719 - val_loss: 32.4061 - val_mae: 3.8849\n",
      "Epoch 49/100\n",
      "404/404 [==============================] - 1s 2ms/step - loss: 20.2189 - mae: 3.2197 - val_loss: 29.4584 - val_mae: 3.8207\n",
      "Epoch 50/100\n",
      "404/404 [==============================] - 1s 2ms/step - loss: 16.9783 - mae: 2.9835 - val_loss: 31.2247 - val_mae: 3.8286\n",
      "Epoch 51/100\n",
      "404/404 [==============================] - 1s 2ms/step - loss: 17.9575 - mae: 3.1251 - val_loss: 34.5998 - val_mae: 4.5137\n",
      "Epoch 52/100\n",
      "404/404 [==============================] - 1s 2ms/step - loss: 15.9788 - mae: 2.9115 - val_loss: 34.4917 - val_mae: 4.0479\n",
      "Epoch 53/100\n",
      "404/404 [==============================] - 1s 2ms/step - loss: 17.0788 - mae: 2.9258 - val_loss: 31.3453 - val_mae: 3.8258\n",
      "Epoch 54/100\n",
      "404/404 [==============================] - 1s 2ms/step - loss: 17.1000 - mae: 3.0553 - val_loss: 33.9868 - val_mae: 4.0955\n",
      "Epoch 55/100\n",
      "404/404 [==============================] - 1s 2ms/step - loss: 18.4564 - mae: 3.1485 - val_loss: 32.0488 - val_mae: 3.8188\n",
      "Epoch 56/100\n",
      "404/404 [==============================] - 1s 2ms/step - loss: 16.6747 - mae: 3.0072 - val_loss: 38.6732 - val_mae: 4.3546\n",
      "Epoch 57/100\n",
      "404/404 [==============================] - 1s 2ms/step - loss: 16.9368 - mae: 3.0071 - val_loss: 31.9346 - val_mae: 3.8828\n",
      "Epoch 58/100\n",
      "404/404 [==============================] - 1s 2ms/step - loss: 15.7572 - mae: 2.8866 - val_loss: 35.6325 - val_mae: 4.1797\n",
      "Epoch 59/100\n",
      "404/404 [==============================] - 1s 2ms/step - loss: 16.0908 - mae: 2.8696 - val_loss: 33.4415 - val_mae: 3.9549\n",
      "Epoch 60/100\n",
      "404/404 [==============================] - 1s 2ms/step - loss: 16.4797 - mae: 3.0013 - val_loss: 32.7598 - val_mae: 3.9594\n",
      "Epoch 61/100\n",
      "404/404 [==============================] - 1s 2ms/step - loss: 18.8347 - mae: 3.1505 - val_loss: 32.5392 - val_mae: 4.0741\n",
      "Epoch 62/100\n",
      "404/404 [==============================] - 1s 2ms/step - loss: 17.5783 - mae: 3.0283 - val_loss: 30.5182 - val_mae: 3.7560\n",
      "Epoch 63/100\n",
      "404/404 [==============================] - 1s 2ms/step - loss: 17.6792 - mae: 3.1057 - val_loss: 40.2571 - val_mae: 4.3112\n",
      "Epoch 64/100\n",
      "404/404 [==============================] - 1s 2ms/step - loss: 16.7728 - mae: 2.9466 - val_loss: 34.5302 - val_mae: 4.0342\n",
      "Epoch 65/100\n",
      "404/404 [==============================] - 1s 2ms/step - loss: 18.3297 - mae: 3.1107 - val_loss: 31.6991 - val_mae: 3.8770\n",
      "Epoch 66/100\n",
      "404/404 [==============================] - 1s 2ms/step - loss: 14.3796 - mae: 2.8510 - val_loss: 40.5296 - val_mae: 4.3430\n",
      "Epoch 67/100\n",
      "404/404 [==============================] - 1s 2ms/step - loss: 19.6607 - mae: 3.1692 - val_loss: 37.8379 - val_mae: 4.2914\n",
      "Epoch 68/100\n",
      "404/404 [==============================] - 1s 2ms/step - loss: 16.0860 - mae: 2.8606 - val_loss: 32.3217 - val_mae: 3.8345\n",
      "Epoch 69/100\n",
      "404/404 [==============================] - 1s 2ms/step - loss: 16.0422 - mae: 2.8903 - val_loss: 34.0454 - val_mae: 3.9940\n",
      "Epoch 70/100\n",
      "404/404 [==============================] - 1s 2ms/step - loss: 15.8555 - mae: 2.8419 - val_loss: 31.0144 - val_mae: 3.7785\n",
      "Epoch 71/100\n",
      "404/404 [==============================] - 1s 2ms/step - loss: 14.5771 - mae: 2.8441 - val_loss: 31.5522 - val_mae: 3.8046\n",
      "Epoch 72/100\n",
      "404/404 [==============================] - 1s 2ms/step - loss: 17.7693 - mae: 2.9871 - val_loss: 36.0381 - val_mae: 4.2068\n",
      "Epoch 73/100\n",
      "404/404 [==============================] - 1s 2ms/step - loss: 15.7180 - mae: 2.8637 - val_loss: 38.6878 - val_mae: 4.4737\n",
      "Epoch 74/100\n",
      "404/404 [==============================] - 1s 2ms/step - loss: 16.2329 - mae: 2.9051 - val_loss: 32.5014 - val_mae: 3.8618\n",
      "Epoch 75/100\n",
      "404/404 [==============================] - 1s 2ms/step - loss: 16.3061 - mae: 2.9108 - val_loss: 33.7553 - val_mae: 3.9230\n",
      "Epoch 76/100\n",
      "404/404 [==============================] - 1s 2ms/step - loss: 16.7018 - mae: 2.9665 - val_loss: 30.4169 - val_mae: 3.7563\n",
      "Epoch 77/100\n",
      "404/404 [==============================] - 1s 2ms/step - loss: 15.5449 - mae: 2.9263 - val_loss: 31.9312 - val_mae: 3.8270\n",
      "Epoch 78/100\n",
      "404/404 [==============================] - 1s 2ms/step - loss: 15.9981 - mae: 2.9985 - val_loss: 35.1774 - val_mae: 4.3094\n",
      "Epoch 79/100\n",
      "404/404 [==============================] - 1s 2ms/step - loss: 15.7296 - mae: 2.9371 - val_loss: 39.1408 - val_mae: 4.3459\n",
      "Epoch 80/100\n",
      "404/404 [==============================] - 1s 2ms/step - loss: 15.8907 - mae: 2.8405 - val_loss: 31.6216 - val_mae: 3.7553\n",
      "Epoch 81/100\n",
      "404/404 [==============================] - 1s 2ms/step - loss: 16.5600 - mae: 2.8451 - val_loss: 32.5725 - val_mae: 3.8838\n",
      "Epoch 82/100\n",
      "404/404 [==============================] - 1s 2ms/step - loss: 17.3770 - mae: 2.9758 - val_loss: 29.8924 - val_mae: 3.6998\n",
      "Epoch 83/100\n",
      "404/404 [==============================] - 1s 2ms/step - loss: 15.1842 - mae: 2.8246 - val_loss: 25.8530 - val_mae: 3.6911\n",
      "Epoch 84/100\n",
      "404/404 [==============================] - 1s 2ms/step - loss: 17.1361 - mae: 2.9253 - val_loss: 26.5305 - val_mae: 3.6045\n",
      "Epoch 85/100\n",
      "404/404 [==============================] - 1s 2ms/step - loss: 16.8618 - mae: 2.9661 - val_loss: 30.4323 - val_mae: 3.7508\n",
      "Epoch 86/100\n",
      "404/404 [==============================] - 1s 2ms/step - loss: 15.6759 - mae: 2.8877 - val_loss: 32.5719 - val_mae: 4.3594\n",
      "Epoch 87/100\n",
      "404/404 [==============================] - 1s 2ms/step - loss: 15.9567 - mae: 2.8277 - val_loss: 31.7760 - val_mae: 3.9962\n",
      "Epoch 88/100\n",
      "404/404 [==============================] - 1s 2ms/step - loss: 15.8531 - mae: 2.8871 - val_loss: 28.1698 - val_mae: 3.5908\n",
      "Epoch 89/100\n",
      "404/404 [==============================] - 1s 2ms/step - loss: 14.5443 - mae: 2.8793 - val_loss: 31.1880 - val_mae: 3.7874\n",
      "Epoch 90/100\n",
      "404/404 [==============================] - 1s 2ms/step - loss: 14.6541 - mae: 2.8267 - val_loss: 46.0578 - val_mae: 4.9154\n",
      "Epoch 91/100\n",
      "404/404 [==============================] - 1s 2ms/step - loss: 15.4422 - mae: 2.8911 - val_loss: 38.9207 - val_mae: 4.0638\n",
      "Epoch 92/100\n",
      "404/404 [==============================] - 1s 2ms/step - loss: 16.2781 - mae: 2.9248 - val_loss: 28.7116 - val_mae: 3.6018\n",
      "Epoch 93/100\n",
      "404/404 [==============================] - 1s 2ms/step - loss: 15.2289 - mae: 2.8723 - val_loss: 28.9455 - val_mae: 3.6117\n",
      "Epoch 94/100\n",
      "404/404 [==============================] - 1s 2ms/step - loss: 13.9295 - mae: 2.6965 - val_loss: 31.2063 - val_mae: 3.7131\n",
      "Epoch 95/100\n",
      "404/404 [==============================] - 1s 2ms/step - loss: 16.6792 - mae: 2.8766 - val_loss: 31.1294 - val_mae: 3.7465\n",
      "Epoch 96/100\n",
      "404/404 [==============================] - 1s 2ms/step - loss: 15.5696 - mae: 2.7990 - val_loss: 30.8849 - val_mae: 3.7831\n",
      "Epoch 97/100\n",
      "404/404 [==============================] - 1s 2ms/step - loss: 15.3592 - mae: 2.8369 - val_loss: 26.9110 - val_mae: 3.5606\n",
      "Epoch 98/100\n",
      "404/404 [==============================] - 1s 2ms/step - loss: 16.3626 - mae: 2.9135 - val_loss: 34.3089 - val_mae: 4.1668\n",
      "Epoch 99/100\n",
      "404/404 [==============================] - 1s 2ms/step - loss: 15.0124 - mae: 2.8398 - val_loss: 34.9781 - val_mae: 3.9552\n",
      "Epoch 100/100\n",
      "404/404 [==============================] - 1s 2ms/step - loss: 15.5735 - mae: 2.8976 - val_loss: 31.5809 - val_mae: 3.7792\n"
     ]
    }
   ],
   "source": [
    "model= HousePricePredictionModel()\n",
    "history=model.fit(x=train_x,y=train_y,epochs=num_epochs,batch_size=1,verbose=1,validation_data=(test_x,test_y))"
   ]
  },
  {
   "cell_type": "code",
   "execution_count": 13,
   "id": "ddfaa157",
   "metadata": {
    "colab": {
     "base_uri": "https://localhost:8080/"
    },
    "executionInfo": {
     "elapsed": 508,
     "status": "ok",
     "timestamp": 1685034841993,
     "user": {
      "displayName": "TE_B_52_Siddesh Patankar",
      "userId": "08734077620444832225"
     },
     "user_tz": -330
    },
    "id": "ddfaa157",
    "outputId": "12b80eb5-5bc6-41dd-af2b-04d17a578bad"
   },
   "outputs": [
    {
     "name": "stdout",
     "output_type": "stream",
     "text": [
      "4/4 [==============================] - 0s 3ms/step - loss: 29.7956 - mae: 3.6904\n",
      "Mean squared error on test data:  29.795610427856445\n",
      "Mean absolute error on test data:  3.6904146671295166\n"
     ]
    }
   ],
   "source": [
    "mse, mae = model.evaluate(test_x, test_y)\n",
    "print('Mean squared error on test data: ', mse)\n",
    "print('Mean absolute error on test data: ', mae)"
   ]
  },
  {
   "cell_type": "code",
   "execution_count": null,
   "id": "2c35b267",
   "metadata": {
    "colab": {
     "background_save": true
    },
    "id": "2c35b267"
   },
   "outputs": [],
   "source": []
  },
  {
   "cell_type": "code",
   "execution_count": null,
   "id": "12ab9568",
   "metadata": {
    "colab": {
     "background_save": true
    },
    "id": "12ab9568"
   },
   "outputs": [],
   "source": []
  }
 ],
 "metadata": {
  "colab": {
   "provenance": []
  },
  "kernelspec": {
   "display_name": "Python 3 (ipykernel)",
   "language": "python",
   "name": "python3"
  },
  "language_info": {
   "codemirror_mode": {
    "name": "ipython",
    "version": 3
   },
   "file_extension": ".py",
   "mimetype": "text/x-python",
   "name": "python",
   "nbconvert_exporter": "python",
   "pygments_lexer": "ipython3",
   "version": "3.8.2"
  }
 },
 "nbformat": 4,
 "nbformat_minor": 5
}
